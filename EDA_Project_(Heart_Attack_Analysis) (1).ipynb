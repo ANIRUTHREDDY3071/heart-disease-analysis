{
  "cells": [
    {
      "cell_type": "markdown",
      "source": [
        "# EDA Assignment\n",
        "\n",
        "---\n",
        "\n",
        "**EDA Project Instructions**\n",
        "\n",
        "1. **Read Each Task Carefully**: Understand each task’s requirements before starting your analysis.\n",
        "\n",
        "2. **Perform the Analysis**: For each task, you’ll find a description in the code cell. Write your code directly in the provided cells to perform the necessary analysis using the Heart Attack dataset.\n",
        "\n",
        "3. **Visualize and Interpret**: Create visualizations and interpret the results as needed. Ensure your analysis addresses the specific questions and insights required.\n",
        "\n",
        "4. **Complete All Tasks**: Make sure you address each task. Each task is designed to test different aspects of data analysis and visualization.\n",
        "\n",
        "5. **Download Your Notebook**: After completing and reviewing your analysis, download your notebook file (.ipynb) by selecting `File > Download > Download .ipynb`.\n",
        "\n",
        "6. **Submit Your Work**: Upload the downloaded `.ipynb` file to the designated platform for submission.\n",
        "\n",
        "7. **Verify Your Submission**: Ensure that you have submitted the correct file and that it is not corrupted. If needed, resubmit the file.\n",
        "\n",
        "Good luck, and happy analyzing!\n",
        "\n",
        "---"
      ],
      "metadata": {
        "id": "aN_IB0-hW6Dl"
      },
      "id": "aN_IB0-hW6Dl"
    },
    {
      "cell_type": "markdown",
      "id": "3c0163a1",
      "metadata": {
        "id": "3c0163a1"
      },
      "source": [
        "## Dataset Information :\n",
        "<ul style= \"color:#137667;\n",
        "            font-size:12px;\">\n",
        "    <li> age : age of the patient</li>\n",
        "    <li> sex : sex of the patient (0 - Male, 1 - Female)</li>\n",
        "    <li> cp : Chest Pain type</li>\n",
        "    0: typical angina <br>\n",
        "    1: atypical angina <br>\n",
        "    2: non-anginal pain <br>\n",
        "    3: asymptomatic <br>\n",
        "    <li> trtbps : resting blood pressure (in mm Hg)</li>\n",
        "    <li> fbs : (fasting blood sugar > 120 mg/dl) (1 = true; 0 = false)</li>\n",
        "    <li> chol : cholestoral in mg/dl fetched via BMI sensor</li>\n",
        "    <li> rest_ecg : resting electrocardiographic results</li>\n",
        "  0:normal <br>\n",
        "  1:having ST-T wave abnormality(T wave inversions and/or ST elevation or depression of>0.05 mV) <br>\n",
        "  2:showing probable or definite left ventricular hypertrophy by Estes' criteria\n",
        "    <li> thalachh : maximum heart rate achieved</li>\n",
        "    <li> exng : exercise induced angina (1 = yes; 0 = no)</li>\n",
        "    <li> oldpeak : Previous peak</li>\n",
        "    <li> slp : ST/HR Slope </li>\n",
        "    <li> caa : number of major vessels (0-4)</li>\n",
        "    <li> thall : Thal rate</li>\n",
        "    <li> output : 0= less chance of heart attack 1= more chance of heart attack</li>\n",
        "</ul>"
      ]
    },
    {
      "cell_type": "code",
      "execution_count": 4,
      "id": "1050567f",
      "metadata": {
        "id": "1050567f"
      },
      "outputs": [],
      "source": [
        "# Run this code cell for initial setup\n",
        "import numpy as np\n",
        "import pandas as pd\n",
        "import matplotlib as mpl\n",
        "import matplotlib.pyplot as plt\n",
        "import seaborn as sns\n",
        "\n",
        "mpl.style.use('ggplot')\n",
        "\n",
        "import warnings\n",
        "warnings.filterwarnings('ignore')\n",
        "\n",
        "%matplotlib inline"
      ]
    },
    {
      "cell_type": "code",
      "execution_count": 6,
      "id": "5dcda229",
      "metadata": {
        "id": "5dcda229",
        "colab": {
          "base_uri": "https://localhost:8080/",
          "height": 363
        },
        "outputId": "d0dc1cfb-7980-40fc-8dec-9e836e288a83"
      },
      "outputs": [
        {
          "output_type": "execute_result",
          "data": {
            "text/plain": [
              "   age  sex  cp  trtbps   chol  fbs  restecg  thalachh  exng  oldpeak  slp  \\\n",
              "0   63    1   3     145  233.0    1        0     150.0   0.0      2.3    0   \n",
              "1   37    1   2     130  250.0    0        1     187.0   0.0      3.5    0   \n",
              "2   41    0   1     130  204.0    0        0     172.0   0.0      1.4    2   \n",
              "3   56    1   1     120  236.0    0        1     178.0   0.0      0.8    2   \n",
              "4   57    0   0     120  354.0    0        1     163.0   1.0      0.6    2   \n",
              "5   57    1   0     140  192.0    0        1     148.0   0.0      0.4    1   \n",
              "6   56    0   1     140  294.0    0        0     153.0   0.0      1.3    1   \n",
              "7   44    1   1     120  263.0    0        1     173.0   0.0      0.0    2   \n",
              "8   52    1   2     172  199.0    1        1     162.0   0.0      0.5    2   \n",
              "9   57    1   2     150  168.0    0        1     174.0   0.0      1.6    2   \n",
              "\n",
              "   caa  thall  output  \n",
              "0    0      1       1  \n",
              "1    0      2       1  \n",
              "2    0      2       1  \n",
              "3    0      2       1  \n",
              "4    0      2       1  \n",
              "5    0      1       1  \n",
              "6    0      2       1  \n",
              "7    0      3       1  \n",
              "8    0      3       1  \n",
              "9    0      2       1  "
            ],
            "text/html": [
              "\n",
              "  <div id=\"df-0936b3a7-9f8c-4d9d-9d9e-20cbf87dfdd9\" class=\"colab-df-container\">\n",
              "    <div>\n",
              "<style scoped>\n",
              "    .dataframe tbody tr th:only-of-type {\n",
              "        vertical-align: middle;\n",
              "    }\n",
              "\n",
              "    .dataframe tbody tr th {\n",
              "        vertical-align: top;\n",
              "    }\n",
              "\n",
              "    .dataframe thead th {\n",
              "        text-align: right;\n",
              "    }\n",
              "</style>\n",
              "<table border=\"1\" class=\"dataframe\">\n",
              "  <thead>\n",
              "    <tr style=\"text-align: right;\">\n",
              "      <th></th>\n",
              "      <th>age</th>\n",
              "      <th>sex</th>\n",
              "      <th>cp</th>\n",
              "      <th>trtbps</th>\n",
              "      <th>chol</th>\n",
              "      <th>fbs</th>\n",
              "      <th>restecg</th>\n",
              "      <th>thalachh</th>\n",
              "      <th>exng</th>\n",
              "      <th>oldpeak</th>\n",
              "      <th>slp</th>\n",
              "      <th>caa</th>\n",
              "      <th>thall</th>\n",
              "      <th>output</th>\n",
              "    </tr>\n",
              "  </thead>\n",
              "  <tbody>\n",
              "    <tr>\n",
              "      <th>0</th>\n",
              "      <td>63</td>\n",
              "      <td>1</td>\n",
              "      <td>3</td>\n",
              "      <td>145</td>\n",
              "      <td>233.0</td>\n",
              "      <td>1</td>\n",
              "      <td>0</td>\n",
              "      <td>150.0</td>\n",
              "      <td>0.0</td>\n",
              "      <td>2.3</td>\n",
              "      <td>0</td>\n",
              "      <td>0</td>\n",
              "      <td>1</td>\n",
              "      <td>1</td>\n",
              "    </tr>\n",
              "    <tr>\n",
              "      <th>1</th>\n",
              "      <td>37</td>\n",
              "      <td>1</td>\n",
              "      <td>2</td>\n",
              "      <td>130</td>\n",
              "      <td>250.0</td>\n",
              "      <td>0</td>\n",
              "      <td>1</td>\n",
              "      <td>187.0</td>\n",
              "      <td>0.0</td>\n",
              "      <td>3.5</td>\n",
              "      <td>0</td>\n",
              "      <td>0</td>\n",
              "      <td>2</td>\n",
              "      <td>1</td>\n",
              "    </tr>\n",
              "    <tr>\n",
              "      <th>2</th>\n",
              "      <td>41</td>\n",
              "      <td>0</td>\n",
              "      <td>1</td>\n",
              "      <td>130</td>\n",
              "      <td>204.0</td>\n",
              "      <td>0</td>\n",
              "      <td>0</td>\n",
              "      <td>172.0</td>\n",
              "      <td>0.0</td>\n",
              "      <td>1.4</td>\n",
              "      <td>2</td>\n",
              "      <td>0</td>\n",
              "      <td>2</td>\n",
              "      <td>1</td>\n",
              "    </tr>\n",
              "    <tr>\n",
              "      <th>3</th>\n",
              "      <td>56</td>\n",
              "      <td>1</td>\n",
              "      <td>1</td>\n",
              "      <td>120</td>\n",
              "      <td>236.0</td>\n",
              "      <td>0</td>\n",
              "      <td>1</td>\n",
              "      <td>178.0</td>\n",
              "      <td>0.0</td>\n",
              "      <td>0.8</td>\n",
              "      <td>2</td>\n",
              "      <td>0</td>\n",
              "      <td>2</td>\n",
              "      <td>1</td>\n",
              "    </tr>\n",
              "    <tr>\n",
              "      <th>4</th>\n",
              "      <td>57</td>\n",
              "      <td>0</td>\n",
              "      <td>0</td>\n",
              "      <td>120</td>\n",
              "      <td>354.0</td>\n",
              "      <td>0</td>\n",
              "      <td>1</td>\n",
              "      <td>163.0</td>\n",
              "      <td>1.0</td>\n",
              "      <td>0.6</td>\n",
              "      <td>2</td>\n",
              "      <td>0</td>\n",
              "      <td>2</td>\n",
              "      <td>1</td>\n",
              "    </tr>\n",
              "    <tr>\n",
              "      <th>5</th>\n",
              "      <td>57</td>\n",
              "      <td>1</td>\n",
              "      <td>0</td>\n",
              "      <td>140</td>\n",
              "      <td>192.0</td>\n",
              "      <td>0</td>\n",
              "      <td>1</td>\n",
              "      <td>148.0</td>\n",
              "      <td>0.0</td>\n",
              "      <td>0.4</td>\n",
              "      <td>1</td>\n",
              "      <td>0</td>\n",
              "      <td>1</td>\n",
              "      <td>1</td>\n",
              "    </tr>\n",
              "    <tr>\n",
              "      <th>6</th>\n",
              "      <td>56</td>\n",
              "      <td>0</td>\n",
              "      <td>1</td>\n",
              "      <td>140</td>\n",
              "      <td>294.0</td>\n",
              "      <td>0</td>\n",
              "      <td>0</td>\n",
              "      <td>153.0</td>\n",
              "      <td>0.0</td>\n",
              "      <td>1.3</td>\n",
              "      <td>1</td>\n",
              "      <td>0</td>\n",
              "      <td>2</td>\n",
              "      <td>1</td>\n",
              "    </tr>\n",
              "    <tr>\n",
              "      <th>7</th>\n",
              "      <td>44</td>\n",
              "      <td>1</td>\n",
              "      <td>1</td>\n",
              "      <td>120</td>\n",
              "      <td>263.0</td>\n",
              "      <td>0</td>\n",
              "      <td>1</td>\n",
              "      <td>173.0</td>\n",
              "      <td>0.0</td>\n",
              "      <td>0.0</td>\n",
              "      <td>2</td>\n",
              "      <td>0</td>\n",
              "      <td>3</td>\n",
              "      <td>1</td>\n",
              "    </tr>\n",
              "    <tr>\n",
              "      <th>8</th>\n",
              "      <td>52</td>\n",
              "      <td>1</td>\n",
              "      <td>2</td>\n",
              "      <td>172</td>\n",
              "      <td>199.0</td>\n",
              "      <td>1</td>\n",
              "      <td>1</td>\n",
              "      <td>162.0</td>\n",
              "      <td>0.0</td>\n",
              "      <td>0.5</td>\n",
              "      <td>2</td>\n",
              "      <td>0</td>\n",
              "      <td>3</td>\n",
              "      <td>1</td>\n",
              "    </tr>\n",
              "    <tr>\n",
              "      <th>9</th>\n",
              "      <td>57</td>\n",
              "      <td>1</td>\n",
              "      <td>2</td>\n",
              "      <td>150</td>\n",
              "      <td>168.0</td>\n",
              "      <td>0</td>\n",
              "      <td>1</td>\n",
              "      <td>174.0</td>\n",
              "      <td>0.0</td>\n",
              "      <td>1.6</td>\n",
              "      <td>2</td>\n",
              "      <td>0</td>\n",
              "      <td>2</td>\n",
              "      <td>1</td>\n",
              "    </tr>\n",
              "  </tbody>\n",
              "</table>\n",
              "</div>\n",
              "    <div class=\"colab-df-buttons\">\n",
              "\n",
              "  <div class=\"colab-df-container\">\n",
              "    <button class=\"colab-df-convert\" onclick=\"convertToInteractive('df-0936b3a7-9f8c-4d9d-9d9e-20cbf87dfdd9')\"\n",
              "            title=\"Convert this dataframe to an interactive table.\"\n",
              "            style=\"display:none;\">\n",
              "\n",
              "  <svg xmlns=\"http://www.w3.org/2000/svg\" height=\"24px\" viewBox=\"0 -960 960 960\">\n",
              "    <path d=\"M120-120v-720h720v720H120Zm60-500h600v-160H180v160Zm220 220h160v-160H400v160Zm0 220h160v-160H400v160ZM180-400h160v-160H180v160Zm440 0h160v-160H620v160ZM180-180h160v-160H180v160Zm440 0h160v-160H620v160Z\"/>\n",
              "  </svg>\n",
              "    </button>\n",
              "\n",
              "  <style>\n",
              "    .colab-df-container {\n",
              "      display:flex;\n",
              "      gap: 12px;\n",
              "    }\n",
              "\n",
              "    .colab-df-convert {\n",
              "      background-color: #E8F0FE;\n",
              "      border: none;\n",
              "      border-radius: 50%;\n",
              "      cursor: pointer;\n",
              "      display: none;\n",
              "      fill: #1967D2;\n",
              "      height: 32px;\n",
              "      padding: 0 0 0 0;\n",
              "      width: 32px;\n",
              "    }\n",
              "\n",
              "    .colab-df-convert:hover {\n",
              "      background-color: #E2EBFA;\n",
              "      box-shadow: 0px 1px 2px rgba(60, 64, 67, 0.3), 0px 1px 3px 1px rgba(60, 64, 67, 0.15);\n",
              "      fill: #174EA6;\n",
              "    }\n",
              "\n",
              "    .colab-df-buttons div {\n",
              "      margin-bottom: 4px;\n",
              "    }\n",
              "\n",
              "    [theme=dark] .colab-df-convert {\n",
              "      background-color: #3B4455;\n",
              "      fill: #D2E3FC;\n",
              "    }\n",
              "\n",
              "    [theme=dark] .colab-df-convert:hover {\n",
              "      background-color: #434B5C;\n",
              "      box-shadow: 0px 1px 3px 1px rgba(0, 0, 0, 0.15);\n",
              "      filter: drop-shadow(0px 1px 2px rgba(0, 0, 0, 0.3));\n",
              "      fill: #FFFFFF;\n",
              "    }\n",
              "  </style>\n",
              "\n",
              "    <script>\n",
              "      const buttonEl =\n",
              "        document.querySelector('#df-0936b3a7-9f8c-4d9d-9d9e-20cbf87dfdd9 button.colab-df-convert');\n",
              "      buttonEl.style.display =\n",
              "        google.colab.kernel.accessAllowed ? 'block' : 'none';\n",
              "\n",
              "      async function convertToInteractive(key) {\n",
              "        const element = document.querySelector('#df-0936b3a7-9f8c-4d9d-9d9e-20cbf87dfdd9');\n",
              "        const dataTable =\n",
              "          await google.colab.kernel.invokeFunction('convertToInteractive',\n",
              "                                                    [key], {});\n",
              "        if (!dataTable) return;\n",
              "\n",
              "        const docLinkHtml = 'Like what you see? Visit the ' +\n",
              "          '<a target=\"_blank\" href=https://colab.research.google.com/notebooks/data_table.ipynb>data table notebook</a>'\n",
              "          + ' to learn more about interactive tables.';\n",
              "        element.innerHTML = '';\n",
              "        dataTable['output_type'] = 'display_data';\n",
              "        await google.colab.output.renderOutput(dataTable, element);\n",
              "        const docLink = document.createElement('div');\n",
              "        docLink.innerHTML = docLinkHtml;\n",
              "        element.appendChild(docLink);\n",
              "      }\n",
              "    </script>\n",
              "  </div>\n",
              "\n",
              "\n",
              "<div id=\"df-397d0039-3bec-496f-9422-00b0b6396534\">\n",
              "  <button class=\"colab-df-quickchart\" onclick=\"quickchart('df-397d0039-3bec-496f-9422-00b0b6396534')\"\n",
              "            title=\"Suggest charts\"\n",
              "            style=\"display:none;\">\n",
              "\n",
              "<svg xmlns=\"http://www.w3.org/2000/svg\" height=\"24px\"viewBox=\"0 0 24 24\"\n",
              "     width=\"24px\">\n",
              "    <g>\n",
              "        <path d=\"M19 3H5c-1.1 0-2 .9-2 2v14c0 1.1.9 2 2 2h14c1.1 0 2-.9 2-2V5c0-1.1-.9-2-2-2zM9 17H7v-7h2v7zm4 0h-2V7h2v10zm4 0h-2v-4h2v4z\"/>\n",
              "    </g>\n",
              "</svg>\n",
              "  </button>\n",
              "\n",
              "<style>\n",
              "  .colab-df-quickchart {\n",
              "      --bg-color: #E8F0FE;\n",
              "      --fill-color: #1967D2;\n",
              "      --hover-bg-color: #E2EBFA;\n",
              "      --hover-fill-color: #174EA6;\n",
              "      --disabled-fill-color: #AAA;\n",
              "      --disabled-bg-color: #DDD;\n",
              "  }\n",
              "\n",
              "  [theme=dark] .colab-df-quickchart {\n",
              "      --bg-color: #3B4455;\n",
              "      --fill-color: #D2E3FC;\n",
              "      --hover-bg-color: #434B5C;\n",
              "      --hover-fill-color: #FFFFFF;\n",
              "      --disabled-bg-color: #3B4455;\n",
              "      --disabled-fill-color: #666;\n",
              "  }\n",
              "\n",
              "  .colab-df-quickchart {\n",
              "    background-color: var(--bg-color);\n",
              "    border: none;\n",
              "    border-radius: 50%;\n",
              "    cursor: pointer;\n",
              "    display: none;\n",
              "    fill: var(--fill-color);\n",
              "    height: 32px;\n",
              "    padding: 0;\n",
              "    width: 32px;\n",
              "  }\n",
              "\n",
              "  .colab-df-quickchart:hover {\n",
              "    background-color: var(--hover-bg-color);\n",
              "    box-shadow: 0 1px 2px rgba(60, 64, 67, 0.3), 0 1px 3px 1px rgba(60, 64, 67, 0.15);\n",
              "    fill: var(--button-hover-fill-color);\n",
              "  }\n",
              "\n",
              "  .colab-df-quickchart-complete:disabled,\n",
              "  .colab-df-quickchart-complete:disabled:hover {\n",
              "    background-color: var(--disabled-bg-color);\n",
              "    fill: var(--disabled-fill-color);\n",
              "    box-shadow: none;\n",
              "  }\n",
              "\n",
              "  .colab-df-spinner {\n",
              "    border: 2px solid var(--fill-color);\n",
              "    border-color: transparent;\n",
              "    border-bottom-color: var(--fill-color);\n",
              "    animation:\n",
              "      spin 1s steps(1) infinite;\n",
              "  }\n",
              "\n",
              "  @keyframes spin {\n",
              "    0% {\n",
              "      border-color: transparent;\n",
              "      border-bottom-color: var(--fill-color);\n",
              "      border-left-color: var(--fill-color);\n",
              "    }\n",
              "    20% {\n",
              "      border-color: transparent;\n",
              "      border-left-color: var(--fill-color);\n",
              "      border-top-color: var(--fill-color);\n",
              "    }\n",
              "    30% {\n",
              "      border-color: transparent;\n",
              "      border-left-color: var(--fill-color);\n",
              "      border-top-color: var(--fill-color);\n",
              "      border-right-color: var(--fill-color);\n",
              "    }\n",
              "    40% {\n",
              "      border-color: transparent;\n",
              "      border-right-color: var(--fill-color);\n",
              "      border-top-color: var(--fill-color);\n",
              "    }\n",
              "    60% {\n",
              "      border-color: transparent;\n",
              "      border-right-color: var(--fill-color);\n",
              "    }\n",
              "    80% {\n",
              "      border-color: transparent;\n",
              "      border-right-color: var(--fill-color);\n",
              "      border-bottom-color: var(--fill-color);\n",
              "    }\n",
              "    90% {\n",
              "      border-color: transparent;\n",
              "      border-bottom-color: var(--fill-color);\n",
              "    }\n",
              "  }\n",
              "</style>\n",
              "\n",
              "  <script>\n",
              "    async function quickchart(key) {\n",
              "      const quickchartButtonEl =\n",
              "        document.querySelector('#' + key + ' button');\n",
              "      quickchartButtonEl.disabled = true;  // To prevent multiple clicks.\n",
              "      quickchartButtonEl.classList.add('colab-df-spinner');\n",
              "      try {\n",
              "        const charts = await google.colab.kernel.invokeFunction(\n",
              "            'suggestCharts', [key], {});\n",
              "      } catch (error) {\n",
              "        console.error('Error during call to suggestCharts:', error);\n",
              "      }\n",
              "      quickchartButtonEl.classList.remove('colab-df-spinner');\n",
              "      quickchartButtonEl.classList.add('colab-df-quickchart-complete');\n",
              "    }\n",
              "    (() => {\n",
              "      let quickchartButtonEl =\n",
              "        document.querySelector('#df-397d0039-3bec-496f-9422-00b0b6396534 button');\n",
              "      quickchartButtonEl.style.display =\n",
              "        google.colab.kernel.accessAllowed ? 'block' : 'none';\n",
              "    })();\n",
              "  </script>\n",
              "</div>\n",
              "\n",
              "    </div>\n",
              "  </div>\n"
            ],
            "application/vnd.google.colaboratory.intrinsic+json": {
              "type": "dataframe",
              "variable_name": "data",
              "summary": "{\n  \"name\": \"data\",\n  \"rows\": 324,\n  \"fields\": [\n    {\n      \"column\": \"age\",\n      \"properties\": {\n        \"dtype\": \"number\",\n        \"std\": 8,\n        \"min\": 29,\n        \"max\": 77,\n        \"num_unique_values\": 41,\n        \"samples\": [\n          46,\n          66,\n          48\n        ],\n        \"semantic_type\": \"\",\n        \"description\": \"\"\n      }\n    },\n    {\n      \"column\": \"sex\",\n      \"properties\": {\n        \"dtype\": \"number\",\n        \"std\": 0,\n        \"min\": 0,\n        \"max\": 1,\n        \"num_unique_values\": 2,\n        \"samples\": [\n          0,\n          1\n        ],\n        \"semantic_type\": \"\",\n        \"description\": \"\"\n      }\n    },\n    {\n      \"column\": \"cp\",\n      \"properties\": {\n        \"dtype\": \"number\",\n        \"std\": 1,\n        \"min\": 0,\n        \"max\": 3,\n        \"num_unique_values\": 4,\n        \"samples\": [\n          2,\n          0\n        ],\n        \"semantic_type\": \"\",\n        \"description\": \"\"\n      }\n    },\n    {\n      \"column\": \"trtbps\",\n      \"properties\": {\n        \"dtype\": \"number\",\n        \"std\": 17,\n        \"min\": 94,\n        \"max\": 200,\n        \"num_unique_values\": 49,\n        \"samples\": [\n          104,\n          123\n        ],\n        \"semantic_type\": \"\",\n        \"description\": \"\"\n      }\n    },\n    {\n      \"column\": \"chol\",\n      \"properties\": {\n        \"dtype\": \"number\",\n        \"std\": 51.06531231173786,\n        \"min\": 126.0,\n        \"max\": 564.0,\n        \"num_unique_values\": 151,\n        \"samples\": [\n          246.0,\n          247.0\n        ],\n        \"semantic_type\": \"\",\n        \"description\": \"\"\n      }\n    },\n    {\n      \"column\": \"fbs\",\n      \"properties\": {\n        \"dtype\": \"number\",\n        \"std\": 0,\n        \"min\": 0,\n        \"max\": 1,\n        \"num_unique_values\": 2,\n        \"samples\": [\n          0,\n          1\n        ],\n        \"semantic_type\": \"\",\n        \"description\": \"\"\n      }\n    },\n    {\n      \"column\": \"restecg\",\n      \"properties\": {\n        \"dtype\": \"number\",\n        \"std\": 0,\n        \"min\": 0,\n        \"max\": 2,\n        \"num_unique_values\": 3,\n        \"samples\": [\n          0,\n          1\n        ],\n        \"semantic_type\": \"\",\n        \"description\": \"\"\n      }\n    },\n    {\n      \"column\": \"thalachh\",\n      \"properties\": {\n        \"dtype\": \"number\",\n        \"std\": 22.82054067726066,\n        \"min\": 71.0,\n        \"max\": 202.0,\n        \"num_unique_values\": 90,\n        \"samples\": [\n          132.0,\n          152.0\n        ],\n        \"semantic_type\": \"\",\n        \"description\": \"\"\n      }\n    },\n    {\n      \"column\": \"exng\",\n      \"properties\": {\n        \"dtype\": \"number\",\n        \"std\": 0.4732320763968161,\n        \"min\": 0.0,\n        \"max\": 1.0,\n        \"num_unique_values\": 2,\n        \"samples\": [\n          1.0,\n          0.0\n        ],\n        \"semantic_type\": \"\",\n        \"description\": \"\"\n      }\n    },\n    {\n      \"column\": \"oldpeak\",\n      \"properties\": {\n        \"dtype\": \"number\",\n        \"std\": 1.183264854904448,\n        \"min\": 0.0,\n        \"max\": 6.2,\n        \"num_unique_values\": 40,\n        \"samples\": [\n          1.9,\n          3.0\n        ],\n        \"semantic_type\": \"\",\n        \"description\": \"\"\n      }\n    },\n    {\n      \"column\": \"slp\",\n      \"properties\": {\n        \"dtype\": \"number\",\n        \"std\": 0,\n        \"min\": 0,\n        \"max\": 2,\n        \"num_unique_values\": 3,\n        \"samples\": [\n          0,\n          2\n        ],\n        \"semantic_type\": \"\",\n        \"description\": \"\"\n      }\n    },\n    {\n      \"column\": \"caa\",\n      \"properties\": {\n        \"dtype\": \"number\",\n        \"std\": 1,\n        \"min\": 0,\n        \"max\": 4,\n        \"num_unique_values\": 5,\n        \"samples\": [\n          2,\n          4\n        ],\n        \"semantic_type\": \"\",\n        \"description\": \"\"\n      }\n    },\n    {\n      \"column\": \"thall\",\n      \"properties\": {\n        \"dtype\": \"number\",\n        \"std\": 0,\n        \"min\": 0,\n        \"max\": 3,\n        \"num_unique_values\": 4,\n        \"samples\": [\n          2,\n          0\n        ],\n        \"semantic_type\": \"\",\n        \"description\": \"\"\n      }\n    },\n    {\n      \"column\": \"output\",\n      \"properties\": {\n        \"dtype\": \"number\",\n        \"std\": 0,\n        \"min\": 0,\n        \"max\": 1,\n        \"num_unique_values\": 2,\n        \"samples\": [\n          0,\n          1\n        ],\n        \"semantic_type\": \"\",\n        \"description\": \"\"\n      }\n    }\n  ]\n}"
            }
          },
          "metadata": {},
          "execution_count": 6
        }
      ],
      "source": [
        "# load the data to colab\n",
        "data = pd.read_csv('/content/e8697469-fd7e-4605-87fe-db9141da3f5c_heart.csv')\n",
        "data.head(10)"
      ]
    },
    {
      "cell_type": "code",
      "execution_count": 7,
      "id": "757b1451",
      "metadata": {
        "id": "757b1451",
        "colab": {
          "base_uri": "https://localhost:8080/"
        },
        "outputId": "e2218085-86cb-416e-d57f-26dc62429cdd"
      },
      "outputs": [
        {
          "output_type": "stream",
          "name": "stdout",
          "text": [
            "<class 'pandas.core.frame.DataFrame'>\n",
            "RangeIndex: 324 entries, 0 to 323\n",
            "Data columns (total 14 columns):\n",
            " #   Column    Non-Null Count  Dtype  \n",
            "---  ------    --------------  -----  \n",
            " 0   age       324 non-null    int64  \n",
            " 1   sex       324 non-null    int64  \n",
            " 2   cp        324 non-null    int64  \n",
            " 3   trtbps    324 non-null    int64  \n",
            " 4   chol      321 non-null    float64\n",
            " 5   fbs       324 non-null    int64  \n",
            " 6   restecg   324 non-null    int64  \n",
            " 7   thalachh  320 non-null    float64\n",
            " 8   exng      321 non-null    float64\n",
            " 9   oldpeak   324 non-null    float64\n",
            " 10  slp       324 non-null    int64  \n",
            " 11  caa       324 non-null    int64  \n",
            " 12  thall     324 non-null    int64  \n",
            " 13  output    324 non-null    int64  \n",
            "dtypes: float64(4), int64(10)\n",
            "memory usage: 35.6 KB\n"
          ]
        }
      ],
      "source": [
        "data.info()"
      ]
    },
    {
      "cell_type": "markdown",
      "id": "7368b01c",
      "metadata": {
        "id": "7368b01c"
      },
      "source": [
        "---\n",
        "---\n",
        "**1. Check the presence of duplicate values and deal with them.**"
      ]
    },
    {
      "cell_type": "code",
      "execution_count": 8,
      "id": "53354bfc",
      "metadata": {
        "id": "53354bfc",
        "colab": {
          "base_uri": "https://localhost:8080/"
        },
        "outputId": "12025cf2-6844-49ec-e326-1e30bf4cc4f2"
      },
      "outputs": [
        {
          "output_type": "execute_result",
          "data": {
            "text/plain": [
              "22"
            ]
          },
          "metadata": {},
          "execution_count": 8
        }
      ],
      "source": [
        "# write your code here\n",
        "data.duplicated().sum()"
      ]
    },
    {
      "cell_type": "markdown",
      "id": "bec81720",
      "metadata": {
        "id": "bec81720"
      },
      "source": [
        "---\n",
        "---\n",
        "**2.Check the presence of missing values and deal with them.**"
      ]
    },
    {
      "cell_type": "code",
      "execution_count": 9,
      "id": "1ee0eb44",
      "metadata": {
        "id": "1ee0eb44",
        "colab": {
          "base_uri": "https://localhost:8080/",
          "height": 523
        },
        "outputId": "25938572-1ed8-41c6-e1ec-9f549f5b7f8c"
      },
      "outputs": [
        {
          "output_type": "execute_result",
          "data": {
            "text/plain": [
              "age         0\n",
              "sex         0\n",
              "cp          0\n",
              "trtbps      0\n",
              "chol        0\n",
              "fbs         0\n",
              "restecg     0\n",
              "thalachh    0\n",
              "exng        0\n",
              "oldpeak     0\n",
              "slp         0\n",
              "caa         0\n",
              "thall       0\n",
              "output      0\n",
              "dtype: int64"
            ],
            "text/html": [
              "<div>\n",
              "<style scoped>\n",
              "    .dataframe tbody tr th:only-of-type {\n",
              "        vertical-align: middle;\n",
              "    }\n",
              "\n",
              "    .dataframe tbody tr th {\n",
              "        vertical-align: top;\n",
              "    }\n",
              "\n",
              "    .dataframe thead th {\n",
              "        text-align: right;\n",
              "    }\n",
              "</style>\n",
              "<table border=\"1\" class=\"dataframe\">\n",
              "  <thead>\n",
              "    <tr style=\"text-align: right;\">\n",
              "      <th></th>\n",
              "      <th>0</th>\n",
              "    </tr>\n",
              "  </thead>\n",
              "  <tbody>\n",
              "    <tr>\n",
              "      <th>age</th>\n",
              "      <td>0</td>\n",
              "    </tr>\n",
              "    <tr>\n",
              "      <th>sex</th>\n",
              "      <td>0</td>\n",
              "    </tr>\n",
              "    <tr>\n",
              "      <th>cp</th>\n",
              "      <td>0</td>\n",
              "    </tr>\n",
              "    <tr>\n",
              "      <th>trtbps</th>\n",
              "      <td>0</td>\n",
              "    </tr>\n",
              "    <tr>\n",
              "      <th>chol</th>\n",
              "      <td>0</td>\n",
              "    </tr>\n",
              "    <tr>\n",
              "      <th>fbs</th>\n",
              "      <td>0</td>\n",
              "    </tr>\n",
              "    <tr>\n",
              "      <th>restecg</th>\n",
              "      <td>0</td>\n",
              "    </tr>\n",
              "    <tr>\n",
              "      <th>thalachh</th>\n",
              "      <td>0</td>\n",
              "    </tr>\n",
              "    <tr>\n",
              "      <th>exng</th>\n",
              "      <td>0</td>\n",
              "    </tr>\n",
              "    <tr>\n",
              "      <th>oldpeak</th>\n",
              "      <td>0</td>\n",
              "    </tr>\n",
              "    <tr>\n",
              "      <th>slp</th>\n",
              "      <td>0</td>\n",
              "    </tr>\n",
              "    <tr>\n",
              "      <th>caa</th>\n",
              "      <td>0</td>\n",
              "    </tr>\n",
              "    <tr>\n",
              "      <th>thall</th>\n",
              "      <td>0</td>\n",
              "    </tr>\n",
              "    <tr>\n",
              "      <th>output</th>\n",
              "      <td>0</td>\n",
              "    </tr>\n",
              "  </tbody>\n",
              "</table>\n",
              "</div><br><label><b>dtype:</b> int64</label>"
            ]
          },
          "metadata": {},
          "execution_count": 9
        }
      ],
      "source": [
        "# write your code here\n",
        "data.isnull().sum()\n",
        "# chol column (continuous numerical)\n",
        "data.dropna(inplace=True)\n",
        "# thalachh (continuous numerical)\n",
        "# exng (categorical)\n",
        "data.isnull().sum()\n"
      ]
    },
    {
      "cell_type": "markdown",
      "id": "17878053",
      "metadata": {
        "id": "17878053"
      },
      "source": [
        "---\n",
        "---\n",
        "**3.Determine mean, standard deviation and quartiles(q1,q2,q3) for following columns:**\n",
        "   - age\n",
        "   - trtbps\n",
        "   - chol\n",
        "   - thalachh"
      ]
    },
    {
      "cell_type": "code",
      "execution_count": 10,
      "id": "6c17bea3",
      "metadata": {
        "id": "6c17bea3",
        "colab": {
          "base_uri": "https://localhost:8080/",
          "height": 300
        },
        "outputId": "adc34203-713a-468e-8ced-f1c520af9d05"
      },
      "outputs": [
        {
          "output_type": "execute_result",
          "data": {
            "text/plain": [
              "              age      trtbps        chol    thalachh\n",
              "count  314.000000  314.000000  314.000000  314.000000\n",
              "mean    54.490446  132.108280  244.821656  149.035032\n",
              "std      9.042405   17.630601   51.319522   22.939190\n",
              "min     29.000000   94.000000  126.000000   71.000000\n",
              "25%     47.250000  120.000000  209.000000  133.000000\n",
              "50%     56.000000  130.000000  239.000000  152.000000\n",
              "75%     61.000000  140.000000  274.000000  165.000000\n",
              "max     77.000000  200.000000  564.000000  202.000000"
            ],
            "text/html": [
              "\n",
              "  <div id=\"df-017b9e8a-009c-4e9f-b979-9e89dfeae6ab\" class=\"colab-df-container\">\n",
              "    <div>\n",
              "<style scoped>\n",
              "    .dataframe tbody tr th:only-of-type {\n",
              "        vertical-align: middle;\n",
              "    }\n",
              "\n",
              "    .dataframe tbody tr th {\n",
              "        vertical-align: top;\n",
              "    }\n",
              "\n",
              "    .dataframe thead th {\n",
              "        text-align: right;\n",
              "    }\n",
              "</style>\n",
              "<table border=\"1\" class=\"dataframe\">\n",
              "  <thead>\n",
              "    <tr style=\"text-align: right;\">\n",
              "      <th></th>\n",
              "      <th>age</th>\n",
              "      <th>trtbps</th>\n",
              "      <th>chol</th>\n",
              "      <th>thalachh</th>\n",
              "    </tr>\n",
              "  </thead>\n",
              "  <tbody>\n",
              "    <tr>\n",
              "      <th>count</th>\n",
              "      <td>314.000000</td>\n",
              "      <td>314.000000</td>\n",
              "      <td>314.000000</td>\n",
              "      <td>314.000000</td>\n",
              "    </tr>\n",
              "    <tr>\n",
              "      <th>mean</th>\n",
              "      <td>54.490446</td>\n",
              "      <td>132.108280</td>\n",
              "      <td>244.821656</td>\n",
              "      <td>149.035032</td>\n",
              "    </tr>\n",
              "    <tr>\n",
              "      <th>std</th>\n",
              "      <td>9.042405</td>\n",
              "      <td>17.630601</td>\n",
              "      <td>51.319522</td>\n",
              "      <td>22.939190</td>\n",
              "    </tr>\n",
              "    <tr>\n",
              "      <th>min</th>\n",
              "      <td>29.000000</td>\n",
              "      <td>94.000000</td>\n",
              "      <td>126.000000</td>\n",
              "      <td>71.000000</td>\n",
              "    </tr>\n",
              "    <tr>\n",
              "      <th>25%</th>\n",
              "      <td>47.250000</td>\n",
              "      <td>120.000000</td>\n",
              "      <td>209.000000</td>\n",
              "      <td>133.000000</td>\n",
              "    </tr>\n",
              "    <tr>\n",
              "      <th>50%</th>\n",
              "      <td>56.000000</td>\n",
              "      <td>130.000000</td>\n",
              "      <td>239.000000</td>\n",
              "      <td>152.000000</td>\n",
              "    </tr>\n",
              "    <tr>\n",
              "      <th>75%</th>\n",
              "      <td>61.000000</td>\n",
              "      <td>140.000000</td>\n",
              "      <td>274.000000</td>\n",
              "      <td>165.000000</td>\n",
              "    </tr>\n",
              "    <tr>\n",
              "      <th>max</th>\n",
              "      <td>77.000000</td>\n",
              "      <td>200.000000</td>\n",
              "      <td>564.000000</td>\n",
              "      <td>202.000000</td>\n",
              "    </tr>\n",
              "  </tbody>\n",
              "</table>\n",
              "</div>\n",
              "    <div class=\"colab-df-buttons\">\n",
              "\n",
              "  <div class=\"colab-df-container\">\n",
              "    <button class=\"colab-df-convert\" onclick=\"convertToInteractive('df-017b9e8a-009c-4e9f-b979-9e89dfeae6ab')\"\n",
              "            title=\"Convert this dataframe to an interactive table.\"\n",
              "            style=\"display:none;\">\n",
              "\n",
              "  <svg xmlns=\"http://www.w3.org/2000/svg\" height=\"24px\" viewBox=\"0 -960 960 960\">\n",
              "    <path d=\"M120-120v-720h720v720H120Zm60-500h600v-160H180v160Zm220 220h160v-160H400v160Zm0 220h160v-160H400v160ZM180-400h160v-160H180v160Zm440 0h160v-160H620v160ZM180-180h160v-160H180v160Zm440 0h160v-160H620v160Z\"/>\n",
              "  </svg>\n",
              "    </button>\n",
              "\n",
              "  <style>\n",
              "    .colab-df-container {\n",
              "      display:flex;\n",
              "      gap: 12px;\n",
              "    }\n",
              "\n",
              "    .colab-df-convert {\n",
              "      background-color: #E8F0FE;\n",
              "      border: none;\n",
              "      border-radius: 50%;\n",
              "      cursor: pointer;\n",
              "      display: none;\n",
              "      fill: #1967D2;\n",
              "      height: 32px;\n",
              "      padding: 0 0 0 0;\n",
              "      width: 32px;\n",
              "    }\n",
              "\n",
              "    .colab-df-convert:hover {\n",
              "      background-color: #E2EBFA;\n",
              "      box-shadow: 0px 1px 2px rgba(60, 64, 67, 0.3), 0px 1px 3px 1px rgba(60, 64, 67, 0.15);\n",
              "      fill: #174EA6;\n",
              "    }\n",
              "\n",
              "    .colab-df-buttons div {\n",
              "      margin-bottom: 4px;\n",
              "    }\n",
              "\n",
              "    [theme=dark] .colab-df-convert {\n",
              "      background-color: #3B4455;\n",
              "      fill: #D2E3FC;\n",
              "    }\n",
              "\n",
              "    [theme=dark] .colab-df-convert:hover {\n",
              "      background-color: #434B5C;\n",
              "      box-shadow: 0px 1px 3px 1px rgba(0, 0, 0, 0.15);\n",
              "      filter: drop-shadow(0px 1px 2px rgba(0, 0, 0, 0.3));\n",
              "      fill: #FFFFFF;\n",
              "    }\n",
              "  </style>\n",
              "\n",
              "    <script>\n",
              "      const buttonEl =\n",
              "        document.querySelector('#df-017b9e8a-009c-4e9f-b979-9e89dfeae6ab button.colab-df-convert');\n",
              "      buttonEl.style.display =\n",
              "        google.colab.kernel.accessAllowed ? 'block' : 'none';\n",
              "\n",
              "      async function convertToInteractive(key) {\n",
              "        const element = document.querySelector('#df-017b9e8a-009c-4e9f-b979-9e89dfeae6ab');\n",
              "        const dataTable =\n",
              "          await google.colab.kernel.invokeFunction('convertToInteractive',\n",
              "                                                    [key], {});\n",
              "        if (!dataTable) return;\n",
              "\n",
              "        const docLinkHtml = 'Like what you see? Visit the ' +\n",
              "          '<a target=\"_blank\" href=https://colab.research.google.com/notebooks/data_table.ipynb>data table notebook</a>'\n",
              "          + ' to learn more about interactive tables.';\n",
              "        element.innerHTML = '';\n",
              "        dataTable['output_type'] = 'display_data';\n",
              "        await google.colab.output.renderOutput(dataTable, element);\n",
              "        const docLink = document.createElement('div');\n",
              "        docLink.innerHTML = docLinkHtml;\n",
              "        element.appendChild(docLink);\n",
              "      }\n",
              "    </script>\n",
              "  </div>\n",
              "\n",
              "\n",
              "<div id=\"df-5f05e5bc-98d3-4a1b-959e-fdadcdcd89a1\">\n",
              "  <button class=\"colab-df-quickchart\" onclick=\"quickchart('df-5f05e5bc-98d3-4a1b-959e-fdadcdcd89a1')\"\n",
              "            title=\"Suggest charts\"\n",
              "            style=\"display:none;\">\n",
              "\n",
              "<svg xmlns=\"http://www.w3.org/2000/svg\" height=\"24px\"viewBox=\"0 0 24 24\"\n",
              "     width=\"24px\">\n",
              "    <g>\n",
              "        <path d=\"M19 3H5c-1.1 0-2 .9-2 2v14c0 1.1.9 2 2 2h14c1.1 0 2-.9 2-2V5c0-1.1-.9-2-2-2zM9 17H7v-7h2v7zm4 0h-2V7h2v10zm4 0h-2v-4h2v4z\"/>\n",
              "    </g>\n",
              "</svg>\n",
              "  </button>\n",
              "\n",
              "<style>\n",
              "  .colab-df-quickchart {\n",
              "      --bg-color: #E8F0FE;\n",
              "      --fill-color: #1967D2;\n",
              "      --hover-bg-color: #E2EBFA;\n",
              "      --hover-fill-color: #174EA6;\n",
              "      --disabled-fill-color: #AAA;\n",
              "      --disabled-bg-color: #DDD;\n",
              "  }\n",
              "\n",
              "  [theme=dark] .colab-df-quickchart {\n",
              "      --bg-color: #3B4455;\n",
              "      --fill-color: #D2E3FC;\n",
              "      --hover-bg-color: #434B5C;\n",
              "      --hover-fill-color: #FFFFFF;\n",
              "      --disabled-bg-color: #3B4455;\n",
              "      --disabled-fill-color: #666;\n",
              "  }\n",
              "\n",
              "  .colab-df-quickchart {\n",
              "    background-color: var(--bg-color);\n",
              "    border: none;\n",
              "    border-radius: 50%;\n",
              "    cursor: pointer;\n",
              "    display: none;\n",
              "    fill: var(--fill-color);\n",
              "    height: 32px;\n",
              "    padding: 0;\n",
              "    width: 32px;\n",
              "  }\n",
              "\n",
              "  .colab-df-quickchart:hover {\n",
              "    background-color: var(--hover-bg-color);\n",
              "    box-shadow: 0 1px 2px rgba(60, 64, 67, 0.3), 0 1px 3px 1px rgba(60, 64, 67, 0.15);\n",
              "    fill: var(--button-hover-fill-color);\n",
              "  }\n",
              "\n",
              "  .colab-df-quickchart-complete:disabled,\n",
              "  .colab-df-quickchart-complete:disabled:hover {\n",
              "    background-color: var(--disabled-bg-color);\n",
              "    fill: var(--disabled-fill-color);\n",
              "    box-shadow: none;\n",
              "  }\n",
              "\n",
              "  .colab-df-spinner {\n",
              "    border: 2px solid var(--fill-color);\n",
              "    border-color: transparent;\n",
              "    border-bottom-color: var(--fill-color);\n",
              "    animation:\n",
              "      spin 1s steps(1) infinite;\n",
              "  }\n",
              "\n",
              "  @keyframes spin {\n",
              "    0% {\n",
              "      border-color: transparent;\n",
              "      border-bottom-color: var(--fill-color);\n",
              "      border-left-color: var(--fill-color);\n",
              "    }\n",
              "    20% {\n",
              "      border-color: transparent;\n",
              "      border-left-color: var(--fill-color);\n",
              "      border-top-color: var(--fill-color);\n",
              "    }\n",
              "    30% {\n",
              "      border-color: transparent;\n",
              "      border-left-color: var(--fill-color);\n",
              "      border-top-color: var(--fill-color);\n",
              "      border-right-color: var(--fill-color);\n",
              "    }\n",
              "    40% {\n",
              "      border-color: transparent;\n",
              "      border-right-color: var(--fill-color);\n",
              "      border-top-color: var(--fill-color);\n",
              "    }\n",
              "    60% {\n",
              "      border-color: transparent;\n",
              "      border-right-color: var(--fill-color);\n",
              "    }\n",
              "    80% {\n",
              "      border-color: transparent;\n",
              "      border-right-color: var(--fill-color);\n",
              "      border-bottom-color: var(--fill-color);\n",
              "    }\n",
              "    90% {\n",
              "      border-color: transparent;\n",
              "      border-bottom-color: var(--fill-color);\n",
              "    }\n",
              "  }\n",
              "</style>\n",
              "\n",
              "  <script>\n",
              "    async function quickchart(key) {\n",
              "      const quickchartButtonEl =\n",
              "        document.querySelector('#' + key + ' button');\n",
              "      quickchartButtonEl.disabled = true;  // To prevent multiple clicks.\n",
              "      quickchartButtonEl.classList.add('colab-df-spinner');\n",
              "      try {\n",
              "        const charts = await google.colab.kernel.invokeFunction(\n",
              "            'suggestCharts', [key], {});\n",
              "      } catch (error) {\n",
              "        console.error('Error during call to suggestCharts:', error);\n",
              "      }\n",
              "      quickchartButtonEl.classList.remove('colab-df-spinner');\n",
              "      quickchartButtonEl.classList.add('colab-df-quickchart-complete');\n",
              "    }\n",
              "    (() => {\n",
              "      let quickchartButtonEl =\n",
              "        document.querySelector('#df-5f05e5bc-98d3-4a1b-959e-fdadcdcd89a1 button');\n",
              "      quickchartButtonEl.style.display =\n",
              "        google.colab.kernel.accessAllowed ? 'block' : 'none';\n",
              "    })();\n",
              "  </script>\n",
              "</div>\n",
              "\n",
              "    </div>\n",
              "  </div>\n"
            ],
            "application/vnd.google.colaboratory.intrinsic+json": {
              "type": "dataframe",
              "summary": "{\n  \"name\": \"data[['age','trtbps','chol','thalachh']]\",\n  \"rows\": 8,\n  \"fields\": [\n    {\n      \"column\": \"age\",\n      \"properties\": {\n        \"dtype\": \"number\",\n        \"std\": 96.40221439128163,\n        \"min\": 9.042404776696396,\n        \"max\": 314.0,\n        \"num_unique_values\": 8,\n        \"samples\": [\n          54.49044585987261,\n          56.0,\n          314.0\n        ],\n        \"semantic_type\": \"\",\n        \"description\": \"\"\n      }\n    },\n    {\n      \"column\": \"trtbps\",\n      \"properties\": {\n        \"dtype\": \"number\",\n        \"std\": 85.71744984575159,\n        \"min\": 17.630600618900857,\n        \"max\": 314.0,\n        \"num_unique_values\": 8,\n        \"samples\": [\n          132.10828025477707,\n          130.0,\n          314.0\n        ],\n        \"semantic_type\": \"\",\n        \"description\": \"\"\n      }\n    },\n    {\n      \"column\": \"chol\",\n      \"properties\": {\n        \"dtype\": \"number\",\n        \"std\": 151.13166853568558,\n        \"min\": 51.31952193302306,\n        \"max\": 564.0,\n        \"num_unique_values\": 8,\n        \"samples\": [\n          244.82165605095543,\n          239.0,\n          314.0\n        ],\n        \"semantic_type\": \"\",\n        \"description\": \"\"\n      }\n    },\n    {\n      \"column\": \"thalachh\",\n      \"properties\": {\n        \"dtype\": \"number\",\n        \"std\": 86.59785012697667,\n        \"min\": 22.939189972195013,\n        \"max\": 314.0,\n        \"num_unique_values\": 8,\n        \"samples\": [\n          149.03503184713375,\n          152.0,\n          314.0\n        ],\n        \"semantic_type\": \"\",\n        \"description\": \"\"\n      }\n    }\n  ]\n}"
            }
          },
          "metadata": {},
          "execution_count": 10
        }
      ],
      "source": [
        "# write your code here\n",
        "data[['age','trtbps','chol','thalachh']].describe()"
      ]
    },
    {
      "cell_type": "markdown",
      "id": "8b16c65b",
      "metadata": {
        "id": "8b16c65b"
      },
      "source": [
        "---\n",
        "---\n",
        "**4.Analyse whether males or females are at a higher risk of heart attack.**"
      ]
    },
    {
      "cell_type": "code",
      "execution_count": 11,
      "id": "fd34a195",
      "metadata": {
        "id": "fd34a195",
        "colab": {
          "base_uri": "https://localhost:8080/",
          "height": 241
        },
        "outputId": "ce70a000-673d-48f3-f3dd-dba6ca5609ee"
      },
      "outputs": [
        {
          "output_type": "execute_result",
          "data": {
            "text/plain": [
              "sex  output\n",
              "0    1          70\n",
              "     0          29\n",
              "1    0         130\n",
              "     1          85\n",
              "Name: count, dtype: int64"
            ],
            "text/html": [
              "<div>\n",
              "<style scoped>\n",
              "    .dataframe tbody tr th:only-of-type {\n",
              "        vertical-align: middle;\n",
              "    }\n",
              "\n",
              "    .dataframe tbody tr th {\n",
              "        vertical-align: top;\n",
              "    }\n",
              "\n",
              "    .dataframe thead th {\n",
              "        text-align: right;\n",
              "    }\n",
              "</style>\n",
              "<table border=\"1\" class=\"dataframe\">\n",
              "  <thead>\n",
              "    <tr style=\"text-align: right;\">\n",
              "      <th></th>\n",
              "      <th></th>\n",
              "      <th>count</th>\n",
              "    </tr>\n",
              "    <tr>\n",
              "      <th>sex</th>\n",
              "      <th>output</th>\n",
              "      <th></th>\n",
              "    </tr>\n",
              "  </thead>\n",
              "  <tbody>\n",
              "    <tr>\n",
              "      <th rowspan=\"2\" valign=\"top\">0</th>\n",
              "      <th>1</th>\n",
              "      <td>70</td>\n",
              "    </tr>\n",
              "    <tr>\n",
              "      <th>0</th>\n",
              "      <td>29</td>\n",
              "    </tr>\n",
              "    <tr>\n",
              "      <th rowspan=\"2\" valign=\"top\">1</th>\n",
              "      <th>0</th>\n",
              "      <td>130</td>\n",
              "    </tr>\n",
              "    <tr>\n",
              "      <th>1</th>\n",
              "      <td>85</td>\n",
              "    </tr>\n",
              "  </tbody>\n",
              "</table>\n",
              "</div><br><label><b>dtype:</b> int64</label>"
            ]
          },
          "metadata": {},
          "execution_count": 11
        }
      ],
      "source": [
        "# write your code here\n",
        "data.groupby('sex')['output'].value_counts()"
      ]
    },
    {
      "cell_type": "code",
      "source": [
        "sns.countplot(x='output',hue='sex',data=data)"
      ],
      "metadata": {
        "colab": {
          "base_uri": "https://localhost:8080/",
          "height": 471
        },
        "id": "XgqHROJyZzOA",
        "outputId": "baa84e76-d3f8-444a-ad70-62054c5ed796"
      },
      "id": "XgqHROJyZzOA",
      "execution_count": 12,
      "outputs": [
        {
          "output_type": "execute_result",
          "data": {
            "text/plain": [
              "<Axes: xlabel='output', ylabel='count'>"
            ]
          },
          "metadata": {},
          "execution_count": 12
        },
        {
          "output_type": "display_data",
          "data": {
            "text/plain": [
              "<Figure size 640x480 with 1 Axes>"
            ],
            "image/png": "[encoded data removed]"
          },
          "metadata": {}
        }
      ]
    },
    {
      "cell_type": "code",
      "source": [
        "# Group by sex and target to count occurrences\n",
        "counts = data.groupby(['sex', 'output']).size().reset_index(name='count')\n",
        "\n",
        "print(counts)\n"
      ],
      "metadata": {
        "colab": {
          "base_uri": "https://localhost:8080/"
        },
        "id": "gmp24GFp6Dzz",
        "outputId": "6b58e8a2-64af-418a-9251-ad5cf4b9c5d6"
      },
      "id": "gmp24GFp6Dzz",
      "execution_count": 27,
      "outputs": [
        {
          "output_type": "stream",
          "name": "stdout",
          "text": [
            "   sex  output  count\n",
            "0    0       0     29\n",
            "1    0       1     70\n",
            "2    1       0    130\n",
            "3    1       1     85\n"
          ]
        }
      ]
    },
    {
      "cell_type": "code",
      "source": [
        "svl_rate = data.groupby('sex').output.value_counts(normalize = True)\n",
        "svl_rate\n",
        "\n"
      ],
      "metadata": {
        "colab": {
          "base_uri": "https://localhost:8080/",
          "height": 241
        },
        "id": "uXfs67o_exsp",
        "outputId": "8c78ebc4-d356-4dc2-b562-79a7d5d605ca"
      },
      "id": "uXfs67o_exsp",
      "execution_count": 13,
      "outputs": [
        {
          "output_type": "execute_result",
          "data": {
            "text/plain": [
              "sex  output\n",
              "0    1         0.707071\n",
              "     0         0.292929\n",
              "1    0         0.604651\n",
              "     1         0.395349\n",
              "Name: proportion, dtype: float64"
            ],
            "text/html": [
              "<div>\n",
              "<style scoped>\n",
              "    .dataframe tbody tr th:only-of-type {\n",
              "        vertical-align: middle;\n",
              "    }\n",
              "\n",
              "    .dataframe tbody tr th {\n",
              "        vertical-align: top;\n",
              "    }\n",
              "\n",
              "    .dataframe thead th {\n",
              "        text-align: right;\n",
              "    }\n",
              "</style>\n",
              "<table border=\"1\" class=\"dataframe\">\n",
              "  <thead>\n",
              "    <tr style=\"text-align: right;\">\n",
              "      <th></th>\n",
              "      <th></th>\n",
              "      <th>proportion</th>\n",
              "    </tr>\n",
              "    <tr>\n",
              "      <th>sex</th>\n",
              "      <th>output</th>\n",
              "      <th></th>\n",
              "    </tr>\n",
              "  </thead>\n",
              "  <tbody>\n",
              "    <tr>\n",
              "      <th rowspan=\"2\" valign=\"top\">0</th>\n",
              "      <th>1</th>\n",
              "      <td>0.707071</td>\n",
              "    </tr>\n",
              "    <tr>\n",
              "      <th>0</th>\n",
              "      <td>0.292929</td>\n",
              "    </tr>\n",
              "    <tr>\n",
              "      <th rowspan=\"2\" valign=\"top\">1</th>\n",
              "      <th>0</th>\n",
              "      <td>0.604651</td>\n",
              "    </tr>\n",
              "    <tr>\n",
              "      <th>1</th>\n",
              "      <td>0.395349</td>\n",
              "    </tr>\n",
              "  </tbody>\n",
              "</table>\n",
              "</div><br><label><b>dtype:</b> float64</label>"
            ]
          },
          "metadata": {},
          "execution_count": 13
        }
      ]
    },
    {
      "cell_type": "code",
      "source": [
        "svl_rate[0]"
      ],
      "metadata": {
        "colab": {
          "base_uri": "https://localhost:8080/",
          "height": 178
        },
        "id": "kpGw7rf8flzA",
        "outputId": "4db8eab7-6f3f-4e9f-b5f1-dc7c114d4f55"
      },
      "id": "kpGw7rf8flzA",
      "execution_count": 14,
      "outputs": [
        {
          "output_type": "execute_result",
          "data": {
            "text/plain": [
              "output\n",
              "1    0.707071\n",
              "0    0.292929\n",
              "Name: proportion, dtype: float64"
            ],
            "text/html": [
              "<div>\n",
              "<style scoped>\n",
              "    .dataframe tbody tr th:only-of-type {\n",
              "        vertical-align: middle;\n",
              "    }\n",
              "\n",
              "    .dataframe tbody tr th {\n",
              "        vertical-align: top;\n",
              "    }\n",
              "\n",
              "    .dataframe thead th {\n",
              "        text-align: right;\n",
              "    }\n",
              "</style>\n",
              "<table border=\"1\" class=\"dataframe\">\n",
              "  <thead>\n",
              "    <tr style=\"text-align: right;\">\n",
              "      <th></th>\n",
              "      <th>proportion</th>\n",
              "    </tr>\n",
              "    <tr>\n",
              "      <th>output</th>\n",
              "      <th></th>\n",
              "    </tr>\n",
              "  </thead>\n",
              "  <tbody>\n",
              "    <tr>\n",
              "      <th>1</th>\n",
              "      <td>0.707071</td>\n",
              "    </tr>\n",
              "    <tr>\n",
              "      <th>0</th>\n",
              "      <td>0.292929</td>\n",
              "    </tr>\n",
              "  </tbody>\n",
              "</table>\n",
              "</div><br><label><b>dtype:</b> float64</label>"
            ]
          },
          "metadata": {},
          "execution_count": 14
        }
      ]
    },
    {
      "cell_type": "code",
      "source": [
        "svl_rate[1]"
      ],
      "metadata": {
        "colab": {
          "base_uri": "https://localhost:8080/",
          "height": 178
        },
        "id": "-ZP23KfQfq3C",
        "outputId": "8e3d2f82-6fa7-41d8-d462-3f0840d4d870"
      },
      "id": "-ZP23KfQfq3C",
      "execution_count": 15,
      "outputs": [
        {
          "output_type": "execute_result",
          "data": {
            "text/plain": [
              "output\n",
              "0    0.604651\n",
              "1    0.395349\n",
              "Name: proportion, dtype: float64"
            ],
            "text/html": [
              "<div>\n",
              "<style scoped>\n",
              "    .dataframe tbody tr th:only-of-type {\n",
              "        vertical-align: middle;\n",
              "    }\n",
              "\n",
              "    .dataframe tbody tr th {\n",
              "        vertical-align: top;\n",
              "    }\n",
              "\n",
              "    .dataframe thead th {\n",
              "        text-align: right;\n",
              "    }\n",
              "</style>\n",
              "<table border=\"1\" class=\"dataframe\">\n",
              "  <thead>\n",
              "    <tr style=\"text-align: right;\">\n",
              "      <th></th>\n",
              "      <th>proportion</th>\n",
              "    </tr>\n",
              "    <tr>\n",
              "      <th>output</th>\n",
              "      <th></th>\n",
              "    </tr>\n",
              "  </thead>\n",
              "  <tbody>\n",
              "    <tr>\n",
              "      <th>0</th>\n",
              "      <td>0.604651</td>\n",
              "    </tr>\n",
              "    <tr>\n",
              "      <th>1</th>\n",
              "      <td>0.395349</td>\n",
              "    </tr>\n",
              "  </tbody>\n",
              "</table>\n",
              "</div><br><label><b>dtype:</b> float64</label>"
            ]
          },
          "metadata": {},
          "execution_count": 15
        }
      ]
    },
    {
      "cell_type": "code",
      "source": [
        "print('Percentage of female survivors : ', round(svl_rate[1][0]*100,2))\n",
        "print('Percentage of dead females     : ', round(svl_rate[1][1]*100,2))\n",
        "print('Percentage of male survivors   : ', round(svl_rate[0][0]*100,2))\n",
        "print('Percentage of dead males       : ', round(svl_rate[0][1]*100,2))"
      ],
      "metadata": {
        "colab": {
          "base_uri": "https://localhost:8080/"
        },
        "id": "i11XAEiSf3Hm",
        "outputId": "f6cf5fa1-5cf6-4e83-abcd-1e2ea1775d6c"
      },
      "id": "i11XAEiSf3Hm",
      "execution_count": 23,
      "outputs": [
        {
          "output_type": "stream",
          "name": "stdout",
          "text": [
            "Percentage of female survivors :  60.47\n",
            "Percentage of dead females     :  39.53\n",
            "Percentage of male survivors   :  29.29\n",
            "Percentage of dead males       :  70.71\n"
          ]
        }
      ]
    },
    {
      "cell_type": "code",
      "source": [
        "\n",
        "males = svl_rate[0]\n",
        "females = svl_rate[1]\n",
        "labels = ['less chance of heart attack ', 'more chance of heart attack']\n",
        "\n",
        "plt.figure(figsize = (18,5), dpi = 200, facecolor = '#d0e1f2')\n",
        "plt.subplot(1,2,1)\n",
        "plt.pie(males, autopct = '%1.1f%%', labels = labels, explode = [0, 0.1])\n",
        "plt.title('Male Survival')\n",
        "plt.subplot(1,2,2)\n",
        "plt.pie(females, autopct = '%1.1f%%', labels = labels, explode = [0, 0.1])\n",
        "plt.title('Female Survival')"
      ],
      "metadata": {
        "colab": {
          "base_uri": "https://localhost:8080/",
          "height": 372
        },
        "id": "QDn_JwScgIfQ",
        "outputId": "e33a499f-6e60-42f1-ff78-efcc0f0c8cb2"
      },
      "id": "QDn_JwScgIfQ",
      "execution_count": 29,
      "outputs": [
        {
          "output_type": "execute_result",
          "data": {
            "text/plain": [
              "Text(0.5, 1.0, 'Female Survival')"
            ]
          },
          "metadata": {},
          "execution_count": 29
        },
        {
          "output_type": "display_data",
          "data": {
            "text/plain": [
              "<Figure size 3600x1000 with 2 Axes>"
            ],
            "image/png": "[encoded data removed]"
          },
          "metadata": {}
        }
      ]
    },
    {
      "cell_type": "markdown",
      "id": "0c8bcbce",
      "metadata": {
        "id": "0c8bcbce"
      },
      "source": [
        "**5.Patients with which type of chest pain are at highest risk of heart attack.**"
      ]
    },
    {
      "cell_type": "code",
      "execution_count": 18,
      "id": "b5c55765",
      "metadata": {
        "id": "b5c55765",
        "colab": {
          "base_uri": "https://localhost:8080/",
          "height": 366
        },
        "outputId": "43811a03-70aa-44e1-b5d3-4151ed7736a2"
      },
      "outputs": [
        {
          "output_type": "execute_result",
          "data": {
            "text/plain": [
              "cp  output\n",
              "0   0         119\n",
              "    1          38\n",
              "1   1          39\n",
              "    0          11\n",
              "2   1          65\n",
              "    0          20\n",
              "3   1          13\n",
              "    0           9\n",
              "Name: count, dtype: int64"
            ],
            "text/html": [
              "<div>\n",
              "<style scoped>\n",
              "    .dataframe tbody tr th:only-of-type {\n",
              "        vertical-align: middle;\n",
              "    }\n",
              "\n",
              "    .dataframe tbody tr th {\n",
              "        vertical-align: top;\n",
              "    }\n",
              "\n",
              "    .dataframe thead th {\n",
              "        text-align: right;\n",
              "    }\n",
              "</style>\n",
              "<table border=\"1\" class=\"dataframe\">\n",
              "  <thead>\n",
              "    <tr style=\"text-align: right;\">\n",
              "      <th></th>\n",
              "      <th></th>\n",
              "      <th>count</th>\n",
              "    </tr>\n",
              "    <tr>\n",
              "      <th>cp</th>\n",
              "      <th>output</th>\n",
              "      <th></th>\n",
              "    </tr>\n",
              "  </thead>\n",
              "  <tbody>\n",
              "    <tr>\n",
              "      <th rowspan=\"2\" valign=\"top\">0</th>\n",
              "      <th>0</th>\n",
              "      <td>119</td>\n",
              "    </tr>\n",
              "    <tr>\n",
              "      <th>1</th>\n",
              "      <td>38</td>\n",
              "    </tr>\n",
              "    <tr>\n",
              "      <th rowspan=\"2\" valign=\"top\">1</th>\n",
              "      <th>1</th>\n",
              "      <td>39</td>\n",
              "    </tr>\n",
              "    <tr>\n",
              "      <th>0</th>\n",
              "      <td>11</td>\n",
              "    </tr>\n",
              "    <tr>\n",
              "      <th rowspan=\"2\" valign=\"top\">2</th>\n",
              "      <th>1</th>\n",
              "      <td>65</td>\n",
              "    </tr>\n",
              "    <tr>\n",
              "      <th>0</th>\n",
              "      <td>20</td>\n",
              "    </tr>\n",
              "    <tr>\n",
              "      <th rowspan=\"2\" valign=\"top\">3</th>\n",
              "      <th>1</th>\n",
              "      <td>13</td>\n",
              "    </tr>\n",
              "    <tr>\n",
              "      <th>0</th>\n",
              "      <td>9</td>\n",
              "    </tr>\n",
              "  </tbody>\n",
              "</table>\n",
              "</div><br><label><b>dtype:</b> int64</label>"
            ]
          },
          "metadata": {},
          "execution_count": 18
        }
      ],
      "source": [
        "# write your code here\n",
        "data.groupby('cp')['output'].value_counts()"
      ]
    },
    {
      "cell_type": "code",
      "source": [
        "sns.countplot(x='output',hue='cp',data=data)"
      ],
      "metadata": {
        "colab": {
          "base_uri": "https://localhost:8080/",
          "height": 471
        },
        "id": "FmEGvaB7aj6C",
        "outputId": "04476a46-c975-4fb9-8478-0e11f0ccbda6"
      },
      "id": "FmEGvaB7aj6C",
      "execution_count": 20,
      "outputs": [
        {
          "output_type": "execute_result",
          "data": {
            "text/plain": [
              "<Axes: xlabel='output', ylabel='count'>"
            ]
          },
          "metadata": {},
          "execution_count": 20
        },
        {
          "output_type": "display_data",
          "data": {
            "text/plain": [
              "<Figure size 640x480 with 1 Axes>"
            ],
            "image/png": "[encoded data removed]"
          },
          "metadata": {}
        }
      ]
    },
    {
      "cell_type": "markdown",
      "id": "e6672bf5",
      "metadata": {
        "id": "e6672bf5"
      },
      "source": [
        "---\n",
        "---\n",
        "**6.Analyse the effect of age on heart attack risk.**"
      ]
    },
    {
      "cell_type": "code",
      "execution_count": 22,
      "id": "6fd53ff9",
      "metadata": {
        "id": "6fd53ff9",
        "colab": {
          "base_uri": "https://localhost:8080/",
          "height": 471
        },
        "outputId": "c149b692-b345-4a4c-febc-5094c38394ee"
      },
      "outputs": [
        {
          "output_type": "execute_result",
          "data": {
            "text/plain": [
              "<Axes: xlabel='output', ylabel='age'>"
            ]
          },
          "metadata": {},
          "execution_count": 22
        },
        {
          "output_type": "display_data",
          "data": {
            "text/plain": [
              "<Figure size 640x480 with 1 Axes>"
            ],
            "image/png": "[encoded data removed]"
          },
          "metadata": {}
        }
      ],
      "source": [
        "# write your code here\n",
        "sns.violinplot(x='output',y='age',data=data)"
      ]
    },
    {
      "cell_type": "code",
      "source": [
        "sns.boxplot(x='output',y='age',data=data)"
      ],
      "metadata": {
        "colab": {
          "base_uri": "https://localhost:8080/",
          "height": 471
        },
        "id": "m_L7ZBUEbR1d",
        "outputId": "587ca908-e258-45c1-c4b9-b3501829d14d"
      },
      "id": "m_L7ZBUEbR1d",
      "execution_count": 23,
      "outputs": [
        {
          "output_type": "execute_result",
          "data": {
            "text/plain": [
              "<Axes: xlabel='output', ylabel='age'>"
            ]
          },
          "metadata": {},
          "execution_count": 23
        },
        {
          "output_type": "display_data",
          "data": {
            "text/plain": [
              "<Figure size 640x480 with 1 Axes>"
            ],
            "image/png": "[encoded data removed]"
          },
          "metadata": {}
        }
      ]
    },
    {
      "cell_type": "markdown",
      "id": "f6305f05",
      "metadata": {
        "id": "f6305f05"
      },
      "source": [
        "---\n",
        "---\n",
        "**7.A higher risk of heart attack is associated more with low fasting blood sugar levels or high fasting blood sugar levels.**"
      ]
    },
    {
      "cell_type": "code",
      "execution_count": 24,
      "id": "90731dc4",
      "metadata": {
        "id": "90731dc4",
        "colab": {
          "base_uri": "https://localhost:8080/",
          "height": 472
        },
        "outputId": "09aae578-92b9-4775-f17c-e2fa70df94ab"
      },
      "outputs": [
        {
          "output_type": "execute_result",
          "data": {
            "text/plain": [
              "<Axes: xlabel='output', ylabel='count'>"
            ]
          },
          "metadata": {},
          "execution_count": 24
        },
        {
          "output_type": "display_data",
          "data": {
            "text/plain": [
              "<Figure size 640x480 with 1 Axes>"
            ],
            "image/png": "[encoded data removed]"
          },
          "metadata": {}
        }
      ],
      "source": [
        "# write your code here\n",
        "sns.countplot(x='output',hue='fbs',data=data)"
      ]
    },
    {
      "cell_type": "markdown",
      "id": "8fb42bd7",
      "metadata": {
        "id": "8fb42bd7"
      },
      "source": [
        "---\n",
        "---\n",
        "**8.How the risk of heart atack can be determined from resting electrocardiographic results?**"
      ]
    },
    {
      "cell_type": "code",
      "execution_count": 26,
      "id": "67c03bb8",
      "metadata": {
        "id": "67c03bb8",
        "colab": {
          "base_uri": "https://localhost:8080/",
          "height": 471
        },
        "outputId": "7770d00b-1a15-4c7a-f5a8-75292796f454"
      },
      "outputs": [
        {
          "output_type": "execute_result",
          "data": {
            "text/plain": [
              "<Axes: xlabel='output', ylabel='count'>"
            ]
          },
          "metadata": {},
          "execution_count": 26
        },
        {
          "output_type": "display_data",
          "data": {
            "text/plain": [
              "<Figure size 640x480 with 1 Axes>"
            ],
            "image/png": "[encoded data removed]"
          },
          "metadata": {}
        }
      ],
      "source": [
        "# write your code here\n",
        "sns.countplot(x='output',hue='restecg',data=data)"
      ]
    },
    {
      "cell_type": "markdown",
      "id": "7f15a3a4",
      "metadata": {
        "id": "7f15a3a4"
      },
      "source": [
        "---\n",
        "---\n",
        "**9. Is resting blood presure a significant factor for detrmining risk of a heart attack?**"
      ]
    },
    {
      "cell_type": "code",
      "execution_count": 30,
      "id": "5e18a404",
      "metadata": {
        "id": "5e18a404",
        "colab": {
          "base_uri": "https://localhost:8080/",
          "height": 471
        },
        "outputId": "547ea4dc-c5a2-40df-f27b-2b90846d0d4b"
      },
      "outputs": [
        {
          "output_type": "execute_result",
          "data": {
            "text/plain": [
              "<Axes: xlabel='output', ylabel='trtbps'>"
            ]
          },
          "metadata": {},
          "execution_count": 30
        },
        {
          "output_type": "display_data",
          "data": {
            "text/plain": [
              "<Figure size 640x480 with 1 Axes>"
            ],
            "image/png": "[encoded data removed]"
          },
          "metadata": {}
        }
      ],
      "source": [
        "# write your code here\n",
        "sns.boxplot(x='output',y='trtbps',data=data)"
      ]
    },
    {
      "cell_type": "markdown",
      "id": "4d5a5f6e",
      "metadata": {
        "id": "4d5a5f6e"
      },
      "source": [
        "---\n",
        "---\n",
        "**10.Is heart attack risk asociated with a higher heart rate?**"
      ]
    },
    {
      "cell_type": "code",
      "execution_count": 31,
      "id": "0ccbc37b",
      "metadata": {
        "id": "0ccbc37b",
        "colab": {
          "base_uri": "https://localhost:8080/",
          "height": 471
        },
        "outputId": "5204b6cb-3d06-45e2-8687-adf5565cb531"
      },
      "outputs": [
        {
          "output_type": "execute_result",
          "data": {
            "text/plain": [
              "<Axes: xlabel='output', ylabel='thalachh'>"
            ]
          },
          "metadata": {},
          "execution_count": 31
        },
        {
          "output_type": "display_data",
          "data": {
            "text/plain": [
              "<Figure size 640x480 with 1 Axes>"
            ],
            "image/png": "[encoded data removed]"
          },
          "metadata": {}
        }
      ],
      "source": [
        "# write your code here\n",
        "sns.boxplot(x='output',y='thalachh',data=data)"
      ]
    },
    {
      "cell_type": "markdown",
      "id": "3f5e089f",
      "metadata": {
        "id": "3f5e089f"
      },
      "source": [
        "---\n",
        "---\n",
        "**11. Determine whether ST/HR (ST segment and Heart rate ratio) is a singificant factor in determining heart attack risk.**"
      ]
    },
    {
      "cell_type": "code",
      "execution_count": 35,
      "id": "52b412fc",
      "metadata": {
        "id": "52b412fc",
        "colab": {
          "base_uri": "https://localhost:8080/",
          "height": 477
        },
        "outputId": "13ee64c8-8b25-4979-ae4e-9d8e2add5d9a"
      },
      "outputs": [
        {
          "output_type": "display_data",
          "data": {
            "text/plain": [
              "<Figure size 640x480 with 1 Axes>"
            ],
            "image/png": "[encoded data removed]"
          },
          "metadata": {}
        }
      ],
      "source": [
        "# write your code here\n",
        "sns.boxplot(x='output',y='slp',data=data)\n",
        "data['ST_HR'] = data['restecg'] / data['thalachh']\n",
        "\n",
        "\n",
        "import seaborn as sns\n",
        "import matplotlib.pyplot as plt\n",
        "\n",
        "sns.boxplot(x='output', y='ST_HR', data=data)\n",
        "plt.xlabel('Heart Attack Risk (0: No, 1: Yes)')\n",
        "plt.ylabel('ST/HR Ratio')\n",
        "plt.title('ST/HR Ratio vs Heart Attack Risk')\n",
        "plt.show()\n"
      ]
    },
    {
      "cell_type": "code",
      "source": [
        "\n"
      ],
      "metadata": {
        "id": "IoVnsWvQCvt9"
      },
      "id": "IoVnsWvQCvt9",
      "execution_count": 45,
      "outputs": []
    },
    {
      "cell_type": "code",
      "source": [
        "# Import necessary libraries\n",
        "import pandas as pd\n",
        "import matplotlib.pyplot as plt\n",
        "import seaborn as sns\n",
        "import ipywidgets as widgets\n",
        "from ipywidgets import interactive\n",
        "from IPython.display import display\n",
        "\n",
        "# Load dataset (replace the URL or path with your actual dataset)\n",
        "df = pd.read_csv('/content/e8697469-fd7e-4605-87fe-db9141da3f5c_heart.csv')  # Replace with your dataset path\n",
        "\n",
        "# Function to create plots based on user selection\n",
        "def plot_relationship(x_column, y_column, plot_type):\n",
        "    plt.figure(figsize=(8, 6))\n",
        "\n",
        "    if plot_type == 'Scatter Plot':\n",
        "        sns.scatterplot(data=df, x=x_column, y=y_column)\n",
        "        plt.title(f'Scatter Plot: {x_column} vs {y_column}')\n",
        "    elif plot_type == 'Line Plot':\n",
        "        sns.lineplot(data=df, x=x_column, y=y_column)\n",
        "        plt.title(f'Line Plot: {x_column} vs {y_column}')\n",
        "    elif plot_type == 'Histogram':\n",
        "        plt.hist(df[x_column], bins=30, alpha=0.7, label=x_column)\n",
        "        plt.hist(df[y_column], bins=30, alpha=0.7, label=y_column)\n",
        "        plt.title(f'Histogram: {x_column} and {y_column}')\n",
        "        plt.legend()\n",
        "    elif plot_type == 'Box Plot':\n",
        "        sns.boxplot(data=df, x=x_column, y=y_column)\n",
        "        plt.title(f'Box Plot: {x_column} vs {y_column}')\n",
        "    elif plot_type == 'Count Plot':\n",
        "        sns.countplot(data=df, x=x_column)\n",
        "        plt.title(f'Count Plot: {x_column}')\n",
        "    elif plot_type == 'Bar Graph':\n",
        "        sns.barplot(data=df, x=x_column, y=y_column)\n",
        "        plt.title(f'Bar Graph: {x_column} vs {y_column}')\n",
        "    elif plot_type == 'Pie Chart':\n",
        "        df[x_column].value_counts().plot.pie(autopct='%1.1f%%', startangle=90, figsize=(7, 7))\n",
        "        plt.title(f'Pie Chart: {x_column}')\n",
        "        plt.ylabel('')  # Remove y-label for pie chart\n",
        "\n",
        "    plt.xlabel(x_column)\n",
        "    plt.ylabel(y_column)\n",
        "    plt.show()\n",
        "\n",
        "# Create dropdown widgets for selecting columns\n",
        "x_dropdown = widgets.Dropdown(\n",
        "    options=df.columns.tolist(),  # Dropdown options are the column names\n",
        "    value=df.columns[0],  # Default to the first column\n",
        "    description='X-Axis:'\n",
        ")\n",
        "\n",
        "y_dropdown = widgets.Dropdown(\n",
        "    options=df.columns.tolist(),  # Dropdown options are the column names\n",
        "    value=df.columns[1],  # Default to the second column\n",
        "    description='Y-Axis:'\n",
        ")\n",
        "\n",
        "# Create a dropdown widget for selecting the type of plot\n",
        "plot_type_dropdown = widgets.Dropdown(\n",
        "    options=['Scatter Plot', 'Line Plot', 'Histogram', 'Box Plot', 'Count Plot', 'Bar Graph', 'Pie Chart'],  # Different plot types\n",
        "    value='Scatter Plot',  # Default to Scatter Plot\n",
        "    description='Plot Type:'\n",
        ")\n",
        "\n",
        "interactive_plot = interactive(plot_relationship,\n",
        "                               x_column=x_dropdown,\n",
        "                               y_column=y_dropdown,\n",
        "                               plot_type=plot_type_dropdown)\n",
        "\n",
        "# Display the interactive plot\n",
        "display(interactive_plot)\n"
      ],
      "metadata": {
        "id": "Acm8odXKDYS0",
        "outputId": "e51b5f1b-6329-4ade-c394-7b729a2ff18a",
        "colab": {
          "base_uri": "https://localhost:8080/",
          "height": 718,
          "referenced_widgets": [
            "dcb4d730cd364035b5e40bf53eb599f6",
            "2c81da61673c4db6a032f68ff4c95333",
            "d8455f049d78407993ce52bfc2f97efb",
            "ed2dc04617984baba6c9d17985d295df",
            "d0e9c6020dd647c88379af321e3397cb",
            "49a21de34bea48ae9c3d05dc64f6e43f",
            "11e05ae24a404e86ae367e155df7802d",
            "156d4d44535b49d9b2e0708bd23a0c86",
            "89388bb1240144b8aecc83cd2b5637ec",
            "483b3cd2bd4242848939f4a00c652c20",
            "3f9ec1504a7b4e2185b1850acc959541",
            "d2320afb053744b59a62eb9c20794bc8",
            "84eb042ea2e24b958b19f631094b5929"
          ]
        }
      },
      "id": "Acm8odXKDYS0",
      "execution_count": 45,
      "outputs": [
        {
          "output_type": "display_data",
          "data": {
            "text/plain": [
              "interactive(children=(Dropdown(description='X-Axis:', options=('age', 'sex', 'cp', 'trtbps', 'chol', 'fbs', 'r…"
            ],
            "application/vnd.jupyter.widget-view+json": {
              "version_major": 2,
              "version_minor": 0,
              "model_id": "dcb4d730cd364035b5e40bf53eb599f6"
            }
          },
          "metadata": {}
        }
      ]
    },
    {
      "cell_type": "markdown",
      "source": [
        "## End!"
      ],
      "metadata": {
        "id": "-0PVWaw7Yxis"
      },
      "id": "-0PVWaw7Yxis"
    }
  ],
  "metadata": {
    "kernelspec": {
      "display_name": "Python 3 (ipykernel)",
      "language": "python",
      "name": "python3"
    },
    "language_info": {
      "codemirror_mode": {
        "name": "ipython",
        "version": 3
      },
      "file_extension": ".py",
      "mimetype": "text/x-python",
      "name": "python",
      "nbconvert_exporter": "python",
      "pygments_lexer": "ipython3",
      "version": "3.9.7"
    },
    "colab": {
      "provenance": []
    },
    "widgets": {
      "application/vnd.jupyter.widget-state+json": {
        "dcb4d730cd364035b5e40bf53eb599f6": {
          "model_module": "@jupyter-widgets/controls",
          "model_name": "VBoxModel",
          "model_module_version": "1.5.0",
          "state": {
            "_dom_classes": [
              "widget-interact"
            ],
            "_model_module": "@jupyter-widgets/controls",
            "_model_module_version": "1.5.0",
            "_model_name": "VBoxModel",
            "_view_count": null,
            "_view_module": "@jupyter-widgets/controls",
            "_view_module_version": "1.5.0",
            "_view_name": "VBoxView",
            "box_style": "",
            "children": [
              "IPY_MODEL_2c81da61673c4db6a032f68ff4c95333",
              "IPY_MODEL_d8455f049d78407993ce52bfc2f97efb",
              "IPY_MODEL_ed2dc04617984baba6c9d17985d295df",
              "IPY_MODEL_d0e9c6020dd647c88379af321e3397cb"
            ],
            "layout": "IPY_MODEL_49a21de34bea48ae9c3d05dc64f6e43f"
          }
        },
        "2c81da61673c4db6a032f68ff4c95333": {
          "model_module": "@jupyter-widgets/controls",
          "model_name": "DropdownModel",
          "model_module_version": "1.5.0",
          "state": {
            "_dom_classes": [],
            "_model_module": "@jupyter-widgets/controls",
            "_model_module_version": "1.5.0",
            "_model_name": "DropdownModel",
            "_options_labels": [
              "age",
              "sex",
              "cp",
              "trtbps",
              "chol",
              "fbs",
              "restecg",
              "thalachh",
              "exng",
              "oldpeak",
              "slp",
              "caa",
              "thall",
              "output"
            ],
            "_view_count": null,
            "_view_module": "@jupyter-widgets/controls",
            "_view_module_version": "1.5.0",
            "_view_name": "DropdownView",
            "description": "X-Axis:",
            "description_tooltip": null,
            "disabled": false,
            "index": 1,
            "layout": "IPY_MODEL_11e05ae24a404e86ae367e155df7802d",
            "style": "IPY_MODEL_156d4d44535b49d9b2e0708bd23a0c86"
          }
        },
        "d8455f049d78407993ce52bfc2f97efb": {
          "model_module": "@jupyter-widgets/controls",
          "model_name": "DropdownModel",
          "model_module_version": "1.5.0",
          "state": {
            "_dom_classes": [],
            "_model_module": "@jupyter-widgets/controls",
            "_model_module_version": "1.5.0",
            "_model_name": "DropdownModel",
            "_options_labels": [
              "age",
              "sex",
              "cp",
              "trtbps",
              "chol",
              "fbs",
              "restecg",
              "thalachh",
              "exng",
              "oldpeak",
              "slp",
              "caa",
              "thall",
              "output"
            ],
            "_view_count": null,
            "_view_module": "@jupyter-widgets/controls",
            "_view_module_version": "1.5.0",
            "_view_name": "DropdownView",
            "description": "Y-Axis:",
            "description_tooltip": null,
            "disabled": false,
            "index": 13,
            "layout": "IPY_MODEL_89388bb1240144b8aecc83cd2b5637ec",
            "style": "IPY_MODEL_483b3cd2bd4242848939f4a00c652c20"
          }
        },
        "ed2dc04617984baba6c9d17985d295df": {
          "model_module": "@jupyter-widgets/controls",
          "model_name": "DropdownModel",
          "model_module_version": "1.5.0",
          "state": {
            "_dom_classes": [],
            "_model_module": "@jupyter-widgets/controls",
            "_model_module_version": "1.5.0",
            "_model_name": "DropdownModel",
            "_options_labels": [
              "Scatter Plot",
              "Line Plot",
              "Histogram",
              "Box Plot",
              "Count Plot",
              "Bar Graph",
              "Pie Chart"
            ],
            "_view_count": null,
            "_view_module": "@jupyter-widgets/controls",
            "_view_module_version": "1.5.0",
            "_view_name": "DropdownView",
            "description": "Plot Type:",
            "description_tooltip": null,
            "disabled": false,
            "index": 6,
            "layout": "IPY_MODEL_3f9ec1504a7b4e2185b1850acc959541",
            "style": "IPY_MODEL_d2320afb053744b59a62eb9c20794bc8"
          }
        },
        "d0e9c6020dd647c88379af321e3397cb": {
          "model_module": "@jupyter-widgets/output",
          "model_name": "OutputModel",
          "model_module_version": "1.0.0",
          "state": {
            "_dom_classes": [],
            "_model_module": "@jupyter-widgets/output",
            "_model_module_version": "1.0.0",
            "_model_name": "OutputModel",
            "_view_count": null,
            "_view_module": "@jupyter-widgets/output",
            "_view_module_version": "1.0.0",
            "_view_name": "OutputView",
            "layout": "IPY_MODEL_84eb042ea2e24b958b19f631094b5929",
            "msg_id": "",
            "outputs": [
              {
                "output_type": "display_data",
                "data": {
                  "text/plain": "<Figure size 700x700 with 1 Axes>",
                  "image/png": "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\n"
                },
                "metadata": {}
              }
            ]
          }
        },
        "49a21de34bea48ae9c3d05dc64f6e43f": {
          "model_module": "@jupyter-widgets/base",
          "model_name": "LayoutModel",
          "model_module_version": "1.2.0",
          "state": {
            "_model_module": "@jupyter-widgets/base",
            "_model_module_version": "1.2.0",
            "_model_name": "LayoutModel",
            "_view_count": null,
            "_view_module": "@jupyter-widgets/base",
            "_view_module_version": "1.2.0",
            "_view_name": "LayoutView",
            "align_content": null,
            "align_items": null,
            "align_self": null,
            "border": null,
            "bottom": null,
            "display": null,
            "flex": null,
            "flex_flow": null,
            "grid_area": null,
            "grid_auto_columns": null,
            "grid_auto_flow": null,
            "grid_auto_rows": null,
            "grid_column": null,
            "grid_gap": null,
            "grid_row": null,
            "grid_template_areas": null,
            "grid_template_columns": null,
            "grid_template_rows": null,
            "height": null,
            "justify_content": null,
            "justify_items": null,
            "left": null,
            "margin": null,
            "max_height": null,
            "max_width": null,
            "min_height": null,
            "min_width": null,
            "object_fit": null,
            "object_position": null,
            "order": null,
            "overflow": null,
            "overflow_x": null,
            "overflow_y": null,
            "padding": null,
            "right": null,
            "top": null,
            "visibility": null,
            "width": null
          }
        },
        "11e05ae24a404e86ae367e155df7802d": {
          "model_module": "@jupyter-widgets/base",
          "model_name": "LayoutModel",
          "model_module_version": "1.2.0",
          "state": {
            "_model_module": "@jupyter-widgets/base",
            "_model_module_version": "1.2.0",
            "_model_name": "LayoutModel",
            "_view_count": null,
            "_view_module": "@jupyter-widgets/base",
            "_view_module_version": "1.2.0",
            "_view_name": "LayoutView",
            "align_content": null,
            "align_items": null,
            "align_self": null,
            "border": null,
            "bottom": null,
            "display": null,
            "flex": null,
            "flex_flow": null,
            "grid_area": null,
            "grid_auto_columns": null,
            "grid_auto_flow": null,
            "grid_auto_rows": null,
            "grid_column": null,
            "grid_gap": null,
            "grid_row": null,
            "grid_template_areas": null,
            "grid_template_columns": null,
            "grid_template_rows": null,
            "height": null,
            "justify_content": null,
            "justify_items": null,
            "left": null,
            "margin": null,
            "max_height": null,
            "max_width": null,
            "min_height": null,
            "min_width": null,
            "object_fit": null,
            "object_position": null,
            "order": null,
            "overflow": null,
            "overflow_x": null,
            "overflow_y": null,
            "padding": null,
            "right": null,
            "top": null,
            "visibility": null,
            "width": null
          }
        },
        "156d4d44535b49d9b2e0708bd23a0c86": {
          "model_module": "@jupyter-widgets/controls",
          "model_name": "DescriptionStyleModel",
          "model_module_version": "1.5.0",
          "state": {
            "_model_module": "@jupyter-widgets/controls",
            "_model_module_version": "1.5.0",
            "_model_name": "DescriptionStyleModel",
            "_view_count": null,
            "_view_module": "@jupyter-widgets/base",
            "_view_module_version": "1.2.0",
            "_view_name": "StyleView",
            "description_width": ""
          }
        },
        "89388bb1240144b8aecc83cd2b5637ec": {
          "model_module": "@jupyter-widgets/base",
          "model_name": "LayoutModel",
          "model_module_version": "1.2.0",
          "state": {
            "_model_module": "@jupyter-widgets/base",
            "_model_module_version": "1.2.0",
            "_model_name": "LayoutModel",
            "_view_count": null,
            "_view_module": "@jupyter-widgets/base",
            "_view_module_version": "1.2.0",
            "_view_name": "LayoutView",
            "align_content": null,
            "align_items": null,
            "align_self": null,
            "border": null,
            "bottom": null,
            "display": null,
            "flex": null,
            "flex_flow": null,
            "grid_area": null,
            "grid_auto_columns": null,
            "grid_auto_flow": null,
            "grid_auto_rows": null,
            "grid_column": null,
            "grid_gap": null,
            "grid_row": null,
            "grid_template_areas": null,
            "grid_template_columns": null,
            "grid_template_rows": null,
            "height": null,
            "justify_content": null,
            "justify_items": null,
            "left": null,
            "margin": null,
            "max_height": null,
            "max_width": null,
            "min_height": null,
            "min_width": null,
            "object_fit": null,
            "object_position": null,
            "order": null,
            "overflow": null,
            "overflow_x": null,
            "overflow_y": null,
            "padding": null,
            "right": null,
            "top": null,
            "visibility": null,
            "width": null
          }
        },
        "483b3cd2bd4242848939f4a00c652c20": {
          "model_module": "@jupyter-widgets/controls",
          "model_name": "DescriptionStyleModel",
          "model_module_version": "1.5.0",
          "state": {
            "_model_module": "@jupyter-widgets/controls",
            "_model_module_version": "1.5.0",
            "_model_name": "DescriptionStyleModel",
            "_view_count": null,
            "_view_module": "@jupyter-widgets/base",
            "_view_module_version": "1.2.0",
            "_view_name": "StyleView",
            "description_width": ""
          }
        },
        "3f9ec1504a7b4e2185b1850acc959541": {
          "model_module": "@jupyter-widgets/base",
          "model_name": "LayoutModel",
          "model_module_version": "1.2.0",
          "state": {
            "_model_module": "@jupyter-widgets/base",
            "_model_module_version": "1.2.0",
            "_model_name": "LayoutModel",
            "_view_count": null,
            "_view_module": "@jupyter-widgets/base",
            "_view_module_version": "1.2.0",
            "_view_name": "LayoutView",
            "align_content": null,
            "align_items": null,
            "align_self": null,
            "border": null,
            "bottom": null,
            "display": null,
            "flex": null,
            "flex_flow": null,
            "grid_area": null,
            "grid_auto_columns": null,
            "grid_auto_flow": null,
            "grid_auto_rows": null,
            "grid_column": null,
            "grid_gap": null,
            "grid_row": null,
            "grid_template_areas": null,
            "grid_template_columns": null,
            "grid_template_rows": null,
            "height": null,
            "justify_content": null,
            "justify_items": null,
            "left": null,
            "margin": null,
            "max_height": null,
            "max_width": null,
            "min_height": null,
            "min_width": null,
            "object_fit": null,
            "object_position": null,
            "order": null,
            "overflow": null,
            "overflow_x": null,
            "overflow_y": null,
            "padding": null,
            "right": null,
            "top": null,
            "visibility": null,
            "width": null
          }
        },
        "d2320afb053744b59a62eb9c20794bc8": {
          "model_module": "@jupyter-widgets/controls",
          "model_name": "DescriptionStyleModel",
          "model_module_version": "1.5.0",
          "state": {
            "_model_module": "@jupyter-widgets/controls",
            "_model_module_version": "1.5.0",
            "_model_name": "DescriptionStyleModel",
            "_view_count": null,
            "_view_module": "@jupyter-widgets/base",
            "_view_module_version": "1.2.0",
            "_view_name": "StyleView",
            "description_width": ""
          }
        },
        "84eb042ea2e24b958b19f631094b5929": {
          "model_module": "@jupyter-widgets/base",
          "model_name": "LayoutModel",
          "model_module_version": "1.2.0",
          "state": {
            "_model_module": "@jupyter-widgets/base",
            "_model_module_version": "1.2.0",
            "_model_name": "LayoutModel",
            "_view_count": null,
            "_view_module": "@jupyter-widgets/base",
            "_view_module_version": "1.2.0",
            "_view_name": "LayoutView",
            "align_content": null,
            "align_items": null,
            "align_self": null,
            "border": null,
            "bottom": null,
            "display": null,
            "flex": null,
            "flex_flow": null,
            "grid_area": null,
            "grid_auto_columns": null,
            "grid_auto_flow": null,
            "grid_auto_rows": null,
            "grid_column": null,
            "grid_gap": null,
            "grid_row": null,
            "grid_template_areas": null,
            "grid_template_columns": null,
            "grid_template_rows": null,
            "height": null,
            "justify_content": null,
            "justify_items": null,
            "left": null,
            "margin": null,
            "max_height": null,
            "max_width": null,
            "min_height": null,
            "min_width": null,
            "object_fit": null,
            "object_position": null,
            "order": null,
            "overflow": null,
            "overflow_x": null,
            "overflow_y": null,
            "padding": null,
            "right": null,
            "top": null,
            "visibility": null,
            "width": null
          }
        }
      }
    }
  },
  "nbformat": 4,
  "nbformat_minor": 5
}